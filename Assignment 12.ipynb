{
 "cells": [
  {
   "cell_type": "code",
   "execution_count": 47,
   "metadata": {},
   "outputs": [],
   "source": [
    "import numpy as np\n",
    "import matplotlib.pyplot as plt\n",
    "from scipy.stats import cauchy\n",
    "import math"
   ]
  },
  {
   "cell_type": "markdown",
   "metadata": {},
   "source": [
    "### Assignment 12\n",
    "## 1.\n",
    "My interpretation of this is to fund the CDF upto that point 2 and minus 1 from it to find the complementary value. All we need is the CDF function."
   ]
  },
  {
   "cell_type": "code",
   "execution_count": 88,
   "metadata": {},
   "outputs": [],
   "source": [
    "def CauchyFunction():\n",
    "    return (1 - cauchy.cdf(2,loc=0,scale=1))"
   ]
  },
  {
   "cell_type": "code",
   "execution_count": 89,
   "metadata": {},
   "outputs": [
    {
     "data": {
      "text/plain": [
       "0.14758361765043326"
      ]
     },
     "execution_count": 89,
     "metadata": {},
     "output_type": "execute_result"
    }
   ],
   "source": [
    "CauchyFunction()"
   ]
  },
  {
   "cell_type": "markdown",
   "metadata": {},
   "source": [
    "## 2.\n",
    "\n",
    "I am unsure as to how to solve this question, doesnt proving a function is the pdf doesnt that mean we need to check it equals to 1.0 or asymptopes to that value as we go through all possible values of x?\n",
    "\n",
    "**incorrect, Remember there are significant rules for a function being a pdf**\n",
    "\n",
    "Its integral from - infinity to + infinity must equal to 1.\n",
    "\n",
    "This is along the same lines as the metho you were attempting, but approximating the improper integral was a little difficult but doable as you did on paper.\n",
    "\n",
    "$$\\int_2^\\inf g(x) = 1$$\n",
    "\n",
    "Note, we have a value of 2 here due to the inbdicator value signifying the entire function to be equal to 0, if the value is below 2.\n",
    "\n",
    "**this does approximate to $\\frac{2}{2} - 0$ which of course is 1**"
   ]
  },
  {
   "attachments": {
    "image.png": {
     "image/png": "[encoded data removed]"
    }
   },
   "cell_type": "markdown",
   "metadata": {},
   "source": [
    "# 3. \n",
    "\n",
    "The upside down A means \"for All\". The question is asking \n",
    "\n",
    "\"Check that the condition :\n",
    "\n",
    "![image.png](attachment:image.png)\n",
    "\n",
    "Is not satisfied\"\n",
    "\n",
    "The condition is not satisfied as for the value of x = 0, we get g(0) = 0\n",
    "\n",
    "This can still be used in the importance sample method due to the easily checkable calculation in the lecture notes that state:\n",
    "\n",
    "\n",
    "$$h(x)f(x) > 0$$ equate to $$g(x) > 0$$ for any x"
   ]
  },
  {
   "cell_type": "markdown",
   "metadata": {},
   "source": [
    "# 4.\n",
    "\n",
    "To sample from g, we would first need to integrate the function g with respect to x, then we need to calculate the inverse of the now CDF function."
   ]
  },
  {
   "cell_type": "markdown",
   "metadata": {},
   "source": [
    "### 5+6. Importance sampling estimator for P(X > 2)\n",
    "\n",
    "1. We generate the random variables on the distribution of g, \n",
    "2. We pass these variables through the $\\omega(X_i)$ function.\n",
    "\n",
    "$$\\omega(X_i) = \\frac{f(X_i)}{g(X_i)}$$\n",
    "\n",
    "3. We then multiply these by our $h(X_i)$ function. This can just be an indicator function corresponding to 1 if the value is less than 2, 0 if not.\n",
    "\n"
   ]
  },
  {
   "cell_type": "code",
   "execution_count": 84,
   "metadata": {},
   "outputs": [],
   "source": [
    "def g(x):\n",
    "    if(x < 2):\n",
    "        multi = 0\n",
    "    elif(x>=2):\n",
    "        multi=(2 / (x**2))\n",
    "    return multi\n",
    "\n",
    "def f(x):\n",
    "    val = math.pi*(1+(x**2))\n",
    "    return 1/val\n",
    "\n",
    "def omega(x):\n",
    "    if(g(x) == 0):\n",
    "        return 0\n",
    "    return f(x) / g(x)"
   ]
  },
  {
   "cell_type": "code",
   "execution_count": 90,
   "metadata": {},
   "outputs": [],
   "source": [
    "\n",
    "def RandomGeneration_g(size):\n",
    "    U = np.random.random(size=size)\n",
    "    U = 2/(1-U)\n",
    "    #Compute the inverse CDF calculation.\n",
    "    return U\n",
    "    \n",
    "        \n",
    "def h(x):\n",
    "    if(x > 2):\n",
    "        return 1\n",
    "    else:\n",
    "        return 0\n",
    "            \n",
    "            "
   ]
  },
  {
   "cell_type": "code",
   "execution_count": 91,
   "metadata": {},
   "outputs": [],
   "source": [
    "sample_size=10_000\n",
    "\n",
    "X = RandomGeneration_g(sample_size)"
   ]
  },
  {
   "cell_type": "code",
   "execution_count": 92,
   "metadata": {},
   "outputs": [
    {
     "name": "stdout",
     "output_type": "stream",
     "text": [
      "0.1475432803706105\n"
     ]
    }
   ],
   "source": [
    "summation = 0\n",
    "for i in X:\n",
    "    temp1 = omega(i)\n",
    "    temp2 = h(i)\n",
    "    summation+= (temp1*temp2)\n",
    "mean = summation / len(X)\n",
    "\n",
    "print(mean)\n",
    "    "
   ]
  },
  {
   "cell_type": "code",
   "execution_count": null,
   "metadata": {},
   "outputs": [],
   "source": []
  }
 ],
 "metadata": {
  "kernelspec": {
   "display_name": "Python 3",
   "language": "python",
   "name": "python3"
  },
  "language_info": {
   "codemirror_mode": {
    "name": "ipython",
    "version": 3
   },
   "file_extension": ".py",
   "mimetype": "text/x-python",
   "name": "python",
   "nbconvert_exporter": "python",
   "pygments_lexer": "ipython3",
   "version": "3.8.5"
  }
 },
 "nbformat": 4,
 "nbformat_minor": 4
}
