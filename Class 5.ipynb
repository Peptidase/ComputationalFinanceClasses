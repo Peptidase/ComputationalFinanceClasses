{
 "cells": [
  {
   "cell_type": "markdown",
   "metadata": {},
   "source": [
    "## Class 5"
   ]
  },
  {
   "cell_type": "markdown",
   "metadata": {},
   "source": [
    "### Exercise 22\n",
    "\n",
    "The Acceptance-rejection algorithm is a method of generating a random distribution from two seperate probability distribution functions **(PDF)** $f$ and $g$. If we know how to generate random variables from the function g and want to generate from f, this is the method to use. \n",
    "\n",
    "We have to ensure we find a constant $c$ so that it satisfies the rules:\n",
    "\n",
    "$f(x) \\leq c*g(x)$ for $ x \\in \\mathbb{R}$\n",
    "\n",
    "Once the above condition is satisfied, (which basically means for all values of x, g(x) will always be larger than f(x) in a \"scaled up version\"  as shown further down) we can start sampling values and checking if they satisfy the acceptance-rejection portion of the algorithm"
   ]
  },
  {
   "cell_type": "markdown",
   "metadata": {},
   "source": [
    "$$U\\leq \\frac{f(x)}{c*g(x)}$$"
   ]
  },
  {
   "cell_type": "markdown",
   "metadata": {},
   "source": [
    "1. We generate a random variable from the funciton we know how to generate from/are familiar with $g(x)$. *(We calculate $c * g(x)$)*\n",
    "\n",
    "\n",
    "\n",
    "2. We then generate a random uniform variable/probability U \n",
    "\n",
    "$U\\sim Unif(0,1)$\n",
    "\n",
    "and check it against the criteria we have above. If the expression is True, then we accept the value of x. "
   ]
  },
  {
   "cell_type": "markdown",
   "metadata": {},
   "source": [
    "1. Sample $X^* \\sim g(x)$ and $U \\sim Unif(0,1)$\n",
    "2. Accept $X = X^*$ if $U \\leq \\frac{f(X^*)}{c*g(X^*)}$ Otherwise return to 1)"
   ]
  },
  {
   "cell_type": "markdown",
   "metadata": {},
   "source": [
    "Note: We can check the probability of acceptance by using the constant c:\n",
    "\n",
    "$$\\frac{1}{c}$$ The probability that the value generated will be accepted. If we calculate the reciprocal of this value and multiply it by the sample amount we want, it will provide a rough estimate of how many total samples will be needed to be generated before we reach that value."
   ]
  },
  {
   "cell_type": "markdown",
   "metadata": {},
   "source": [
    "Questions:\n",
    "1. How does this work? I understand that visually the distribution will always be greater and hence, when we obtain values from $c*g(x)$ it has a chance of generating values that dont represent the distribution we want random variables from, but why are we using the Uniform distribution to choose whether values are accepted or not, cant we just see if the values fall under the desired distribution?\n",
    "\n",
    "The ratio of both $f$ and $g$ is bound by:\n",
    "\n",
    "$$0 \\leq \\frac{f(x)}{c*g(x)} \\leq 1$$\n",
    "\n"
   ]
  },
  {
   "cell_type": "markdown",
   "metadata": {},
   "source": [
    "Which means we are just taking it to chance that we accept the value itself. Im not sure I understand why we let it down to a uniform random variable to be the deciding factor of accepting a value.\n",
    "\n",
    "**update:\n",
    "\n",
    "My understanding now, is that to ensure that this sequence of values is random, we randomly have access to these values and ensuring they are selected from random introduces another form of \"chaos\" that provides more brownian motion within the samples. I think this is wrong as this is where we check the values themselves fall under the correct distribution."
   ]
  },
  {
   "cell_type": "code",
   "execution_count": null,
   "metadata": {},
   "outputs": [],
   "source": []
  },
  {
   "cell_type": "markdown",
   "metadata": {},
   "source": [
    "### Exercise 23"
   ]
  },
  {
   "cell_type": "markdown",
   "metadata": {},
   "source": [
    "1. Find the PDF of both the standard normal distribution X, and normal distribution Y.\n",
    "\n",
    "2. calculate $\\frac{f(x)}{g(x)} \\leq c$ so it is true for all values of X.\n",
    "\n",
    "The part above is deriving the value of C from the expression \n",
    "\n",
    "3. Utilize a random uniform distribution to generate U $$U \\sim Unif(0,1)$$\n",
    "\n",
    "4. Sample from the X distribution and check the value against a randomly generated U in the criteria:\n",
    "\n",
    "$$U\\leq \\frac{f(x)}{c*g(x)}$$\n",
    "\n",
    "5. Accept or reject based on the value, Repeat steps until you obtain correct sample size. This should have a $\\frac{1}{c}$ acceptance rate on the samples. Meaning calculating the reciprical of that multiplied by the desired sample size provides you with how many sampesl you will roughtly need to generate from U and X to obtain your size.\n",
    "\n",
    "\n",
    "#### Corrected answer below\n",
    "\n",
    "While the answer above would work, we want to ensure that we work it out easily only using those values of mu, and the standard deviation.\n",
    "\n",
    "While the standard normal distribution is just $X\\sim Norm(0,1)$ and the other normal distribition"
   ]
  },
  {
   "cell_type": "markdown",
   "metadata": {},
   "source": [
    "### Exercise 24\n",
    "\n",
    "We need both PDFS to generate random numbers, Hence lets obtain the PDF for both the standard normal distribution and the doubly exponential distribution.\n",
    "\n",
    "The probability density function for standard normal distributions is:\n",
    "\n",
    "$$ f(x) = \\frac{e^{-\\frac{x^2}{2}}}{\\sqrt{2\\pi}}$$\n",
    "\n",
    "The probability density function for the double exponential distribution is:\n",
    "\n",
    "$$ g(x) = \\frac{e^{-|x|}}{2}$$\n",
    "\n",
    "\n",
    "Lets Calculate c, by:\n",
    "\n",
    "$$\\frac{f(x)}{g(x)} \\leq c$$\n",
    "\n",
    "$$\\frac{f(x)}{g(x)} = $$\n",
    "\n"
   ]
  },
  {
   "cell_type": "code",
   "execution_count": 95,
   "metadata": {},
   "outputs": [],
   "source": [
    "def f(x): #Normal\n",
    "    return np.exp(-0.5*(x**2)) / np.sqrt(2 * math.pi)\n",
    "    \n",
    "def g(x): #Exponential\n",
    "    return np.exp(-np.abs(x))/2\n",
    "    "
   ]
  },
  {
   "cell_type": "code",
   "execution_count": 116,
   "metadata": {},
   "outputs": [],
   "source": [
    "mu = 2\n",
    "sample_size = 10_000\n",
    "counter = 0\n",
    "U = np.random.random()\n",
    "X = np.random.standard_normal(size=sample_size)\n",
    "Y=np.random.exponential(size=sample_size,scale=1/mu)\n",
    "\n",
    "\n"
   ]
  },
  {
   "cell_type": "code",
   "execution_count": 122,
   "metadata": {},
   "outputs": [
    {
     "data": {
      "image/png": "[encoded data removed]",
      "text/plain": [
       "<Figure size 864x360 with 2 Axes>"
      ]
     },
     "metadata": {
      "needs_background": "light"
     },
     "output_type": "display_data"
    }
   ],
   "source": [
    "fig,ax = plt.subplots(ncols = 2, figsize=(12,5))\n",
    "\n",
    "ax[0].set_title(\"Distribution of Normal\")\n",
    "ax[0].hist(X,bins=100)\n",
    "ax[1].set_title(\"Distribution of Exponential\");\n",
    "ax[1].hist(Y,bins=100);\n"
   ]
  },
  {
   "cell_type": "markdown",
   "metadata": {},
   "source": [
    "### Exercise 25"
   ]
  },
  {
   "cell_type": "code",
   "execution_count": 3,
   "metadata": {},
   "outputs": [],
   "source": [
    "import math\n",
    "import matplotlib.pyplot as plt\n",
    "import numpy as np"
   ]
  },
  {
   "cell_type": "code",
   "execution_count": 4,
   "metadata": {},
   "outputs": [],
   "source": [
    "def fib(n):\n",
    "    if n <= 1:\n",
    "        return n\n",
    "    else:\n",
    "        return fib(n-1) + fib(n-2)\n",
    "    \n",
    "def targetFib(k):\n",
    "    array =[]\n",
    "    \n",
    "    for i in range(k,-1,-1):\n",
    "        value = fib(i)\n",
    "        if(value <= k):\n",
    "            array.append(value)\n",
    "    return array"
   ]
  },
  {
   "cell_type": "code",
   "execution_count": null,
   "metadata": {},
   "outputs": [],
   "source": [
    "targetFib(1000)"
   ]
  },
  {
   "cell_type": "markdown",
   "metadata": {},
   "source": [
    "### Exercise 26"
   ]
  },
  {
   "cell_type": "code",
   "execution_count": 6,
   "metadata": {},
   "outputs": [],
   "source": [
    "sample_size = 10_000"
   ]
  },
  {
   "cell_type": "code",
   "execution_count": 7,
   "metadata": {},
   "outputs": [],
   "source": [
    "U1= np.random.random(size=sample_size //2)\n",
    "U2= np.random.random(size=sample_size //2)\n",
    "\n",
    "R = -2*np.log(U1)\n",
    "theta = 2*math.pi*(U2)"
   ]
  },
  {
   "cell_type": "code",
   "execution_count": 10,
   "metadata": {},
   "outputs": [],
   "source": [
    "X1 = np.sqrt(R) * np.cos(theta)\n",
    "X2 = np.sqrt(R) * np.sin(theta)\n",
    "\n",
    "samples = np.concatenate((X1,X2))"
   ]
  },
  {
   "cell_type": "code",
   "execution_count": 16,
   "metadata": {},
   "outputs": [
    {
     "data": {
      "image/png": "[encoded data removed]",
      "text/plain": [
       "<Figure size 720x720 with 4 Axes>"
      ]
     },
     "metadata": {
      "needs_background": "light"
     },
     "output_type": "display_data"
    },
    {
     "data": {
      "image/png": "[encoded data removed]",
      "text/plain": [
       "<Figure size 720x720 with 1 Axes>"
      ]
     },
     "metadata": {
      "needs_background": "light"
     },
     "output_type": "display_data"
    }
   ],
   "source": [
    "fig,ax = plt.subplots(nrows=2,ncols=2,figsize=(10,10))\n",
    "ax[0][0].set_title(\"U1 Density\")\n",
    "ax[0][0].hist(U1,bins=100,density=True)\n",
    "ax[0][0].set_xlim(0,1)\n",
    "\n",
    "ax[0][1].set_title(\"U2\")\n",
    "ax[0][1].hist(U2,bins=100)\n",
    "ax[0][1].set_xlim(0,1)\n",
    "\n",
    "\n",
    "ax[1][0].set_title(\"X1 Density\")\n",
    "ax[1][0].hist(X1,bins=100,density=True)\n",
    "\n",
    "ax[1][1].set_title(\"X2\")\n",
    "ax[1][1].hist(X1,bins=100);\n",
    "\n",
    "fig.suptitle(\"The box Mueller Method of random generation\",fontsize=19);\n",
    "\n",
    "fig,ax = plt.subplots(figsize=(10,10))\n",
    "ax.hist(samples,bins=100);\n",
    "ax.set_title(\"The concatenated distribution\");"
   ]
  },
  {
   "cell_type": "code",
   "execution_count": null,
   "metadata": {},
   "outputs": [],
   "source": []
  }
 ],
 "metadata": {
  "kernelspec": {
   "display_name": "Python 3",
   "language": "python",
   "name": "python3"
  },
  "language_info": {
   "codemirror_mode": {
    "name": "ipython",
    "version": 3
   },
   "file_extension": ".py",
   "mimetype": "text/x-python",
   "name": "python",
   "nbconvert_exporter": "python",
   "pygments_lexer": "ipython3",
   "version": "3.8.5"
  }
 },
 "nbformat": 4,
 "nbformat_minor": 4
}
