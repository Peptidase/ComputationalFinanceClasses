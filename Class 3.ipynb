{
 "cells": [
  {
   "cell_type": "markdown",
   "metadata": {},
   "source": [
    "## Assignment 3 Arif Meighan"
   ]
  },
  {
   "cell_type": "markdown",
   "metadata": {},
   "source": [
    "### Exercise 13"
   ]
  },
  {
   "cell_type": "markdown",
   "metadata": {},
   "source": [
    "**Variance**: A measurement of the deviation of the data from the mean. It could be interpreatated as how \"spread out\" the data is in correlation to the value of the mean.\n",
    "\n",
    "**Standard Deviation**: Is the square root of the variance. Can also be interpretated as the \"spread\" or \"width\" of the distribution itself.\n",
    "\n",
    "\n"
   ]
  },
  {
   "cell_type": "markdown",
   "metadata": {},
   "source": [
    "### Exercise 14"
   ]
  },
  {
   "cell_type": "markdown",
   "metadata": {},
   "source": [
    "Prove the following statements for any r.v. X and any constant c.\n",
    "\n",
    "Using the definition of variance and the linearity of Expectation we can derive both outcomes easily.\n",
    "\n",
    "1. For the $Var(X+c) = Var(X)$\n",
    "\n",
    "The value of adding a constant \"shifts\" over the entire distribution by c.\n",
    "\n",
    "$Var(X+c) = E[(X+c)^2 - E[X+c]^2]$\n",
    "\n",
    "Expanding out the first term\n",
    "\n",
    "$E[(X+c)^2 - E[X+c]^2] = E[(X^2 + 2cX+ c^2) - E[X+c]^2]$\n",
    "\n",
    "Then with the second term we can derive from the linearity of Expectation that:\n",
    "\n",
    "$E[aA+bB] = aE[A] + bE[B]$\n",
    "\n",
    "hence in out context:\n",
    "\n",
    "$E[X+c] = E[X] + cE[1] = E[X]+c$\n",
    "\n",
    "$\\therefore E[X+c]^2 = (E[X]+c)^2 = E[X]^2 + 2cE[X] + c^2$\n",
    "\n",
    "So overall\n",
    "\n",
    "$ E[(X^2 + 2cX+ c^2) - (E[X]^2 + 2cE[X] + c^2)$\n",
    "\n",
    "Which cancels out ot\n",
    "\n",
    "$E[(X^2 - E[X]^2)]$\n",
    "\n",
    "and hence the variance doesnt change.\n",
    "\n",
    "The idea of X+c means to add c to all the values of X. Hence shifting the entire distribution by c. That means the spread of the variables doesnt change only the values themselves, all by the same amount.\n",
    "\n",
    "2. For the $Var(cX) = c^2Var(X)$\n",
    "\n",
    "We can see that by multiplying the values by a constant we are going to increasing the \"spread\" of the variables within the distribution by a factor.\n",
    "\n",
    "$Var(cX) = c^2Var(X)$\n",
    "\n",
    "If we expand out the formula for\n",
    "\n",
    "$Var(cX) = E[(cX)^2-E[cX]^2]$\n",
    "\n",
    "$Var(cX) = E[c^2X^2-c^2E[X]^2]$\n",
    "\n",
    "$Var(cX) = c^2E[X^2-E[X]^2]$\n",
    "\n",
    "$c^2E[X^2-E[X]^2] = c^2Var(cX)$\n",
    "\n",
    "\n",
    "Both examples done via the \"linearity of Expectations formula\" which was very useful insight.\n",
    "\n",
    "\n"
   ]
  },
  {
   "cell_type": "markdown",
   "metadata": {},
   "source": [
    "### Exercise 15 **"
   ]
  },
  {
   "cell_type": "code",
   "execution_count": 2,
   "metadata": {},
   "outputs": [],
   "source": [
    "import numpy as np\n",
    "import matplotlib.pyplot as plt\n",
    "import math"
   ]
  },
  {
   "cell_type": "code",
   "execution_count": 3,
   "metadata": {},
   "outputs": [
    {
     "name": "stdout",
     "output_type": "stream",
     "text": [
      "The expected value is 0.03663127777746836\n"
     ]
    }
   ],
   "source": [
    "mu = 2\n",
    "sample_size=10000\n",
    "U = np.random.exponential(scale = 1/mu,size=sample_size)\n",
    "def PDF(mu,x):\n",
    "    return mu*math.exp(-(mu)*x)\n",
    "\n",
    "#Expectation of mu in a continous distribution is equal to\n",
    "#E[U = mu]\n",
    "#Hence, we just calculate the PDF of one singular value using the function above\n",
    "PDFValue = PDF(mu,mu)\n",
    "print(\"The expected value is {}\".format(PDFValue))\n"
   ]
  },
  {
   "cell_type": "markdown",
   "metadata": {},
   "source": [
    "By using the function PDF created, we can see the expectation of the exponentially distibuted function (the most likely value seen when an outcome is generated) is shown above."
   ]
  },
  {
   "cell_type": "code",
   "execution_count": 4,
   "metadata": {},
   "outputs": [
    {
     "name": "stdout",
     "output_type": "stream",
     "text": [
      "Mean of the Array:0.4980069771414568\n",
      "Expected Value of the Exponential Distribution:0.03663127777746836\n"
     ]
    },
    {
     "data": {
      "image/png": "[encoded data removed]",
      "text/plain": [
       "<Figure size 360x360 with 1 Axes>"
      ]
     },
     "metadata": {
      "needs_background": "light"
     },
     "output_type": "display_data"
    }
   ],
   "source": [
    "fig,ax = plt.subplots(figsize=(5,5))\n",
    "ax.hist(U, bins=500,color='blue');\n",
    "plt.axvline(U.mean(), color='k', linestyle='dashed', linewidth=1)\n",
    "plt.axvline(PDFValue, color='red', linestyle='dashed', linewidth=1)\n",
    "ax.set_xlim((0,5))\n",
    "print(\"Mean of the Array:{}\".format(U.mean()));\n",
    "print(\"Expected Value of the Exponential Distribution:{}\".format(PDFValue));\n",
    "\n",
    "ax.legend([\"Mean Value of Distribution\",\"Expected Value\"]);"
   ]
  },
  {
   "cell_type": "markdown",
   "metadata": {},
   "source": [
    "### Exercise 16"
   ]
  },
  {
   "cell_type": "code",
   "execution_count": 52,
   "metadata": {},
   "outputs": [],
   "source": [
    "sample_size = 100"
   ]
  },
  {
   "cell_type": "code",
   "execution_count": 60,
   "metadata": {},
   "outputs": [
    {
     "name": "stdout",
     "output_type": "stream",
     "text": [
      "Mean              : 4.277985733381633\n",
      "Standard Deviation: 8.837355875437757\n"
     ]
    }
   ],
   "source": [
    "N = np.random.normal(4,9,size=sample_size)\n",
    "print(\"Mean              : {}\".format(N.mean()))\n",
    "print(\"Standard Deviation: {}\".format(N.std()))"
   ]
  },
  {
   "cell_type": "markdown",
   "metadata": {},
   "source": [
    "### Exercise 17"
   ]
  },
  {
   "cell_type": "code",
   "execution_count": 61,
   "metadata": {},
   "outputs": [],
   "source": [
    "sample_size = 10000\n",
    "\n",
    "g1 = lambda x: x**2\n",
    "g2 = lambda x: x**4 + 2*x**2\n",
    "\n",
    "#Now need Normal and Uniform Expected value fOrmula: (PDF)\n"
   ]
  },
  {
   "cell_type": "code",
   "execution_count": 69,
   "metadata": {},
   "outputs": [],
   "source": [
    "N = np.random.standard_normal(size=sample_size)\n",
    "U = np.random.uniform(size=sample_size)"
   ]
  },
  {
   "cell_type": "code",
   "execution_count": 71,
   "metadata": {},
   "outputs": [
    {
     "name": "stdout",
     "output_type": "stream",
     "text": [
      "True\n",
      "True\n"
     ]
    }
   ],
   "source": [
    "print(g1(N.mean()) <= g1(N).mean())\n",
    "print(g2(N.mean()) <= g2(N).mean())\n"
   ]
  },
  {
   "cell_type": "code",
   "execution_count": 72,
   "metadata": {},
   "outputs": [
    {
     "name": "stdout",
     "output_type": "stream",
     "text": [
      "True\n",
      "True\n"
     ]
    }
   ],
   "source": [
    "print(g1(U.mean()) <= g1(U).mean())\n",
    "print(g2(U.mean()) <= g2(U).mean())"
   ]
  },
  {
   "cell_type": "markdown",
   "metadata": {},
   "source": [
    "it is asking us to calculate:\n",
    "\n",
    "$g(E[X]) \\leq E[g(X)]$\n",
    "\n",
    "The expected Values of $E[X]$ remember are just the mean values of these distributions, hence we can just utilize them from the arrays.\n",
    "\n",
    "We see if the function passing the mean of an array is bigger than the mean of the values passed through a function. Both sets show True on the Jensen's Inequality meaning it holds."
   ]
  },
  {
   "cell_type": "code",
   "execution_count": null,
   "metadata": {},
   "outputs": [],
   "source": []
  }
 ],
 "metadata": {
  "kernelspec": {
   "display_name": "Python 3",
   "language": "python",
   "name": "python3"
  },
  "language_info": {
   "codemirror_mode": {
    "name": "ipython",
    "version": 3
   },
   "file_extension": ".py",
   "mimetype": "text/x-python",
   "name": "python",
   "nbconvert_exporter": "python",
   "pygments_lexer": "ipython3",
   "version": "3.8.5"
  }
 },
 "nbformat": 4,
 "nbformat_minor": 4
}
