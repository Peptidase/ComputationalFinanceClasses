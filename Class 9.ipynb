{
 "cells": [
  {
   "cell_type": "markdown",
   "metadata": {},
   "source": [
    "### Assignment 9"
   ]
  },
  {
   "cell_type": "markdown",
   "metadata": {},
   "source": [
    "### Exercise 3.1\n",
    "Given a 2 period binomial mode, we need to find a value for $r \\in (-1,\\infty )$ \n",
    "That is able to satisfy no arbitrage.\n",
    "\n",
    "If we can recount the rule is as follows:\n",
    "\n",
    "$$d < r+1 < u$$\n",
    "\n",
    "We can already define the value of $u,d$ therefore we can calculate the interest rates by substituting d,u and subtracting 1 to obtain the range of values.\n",
    "\n",
    "$$-\\frac{2}{3} < r < 2$$\n",
    "\n",
    "### Exercise 3.2\n",
    "\n",
    "We can see that the values of X belong on [1/2,1]. I believe this means that We can sample the uniform distribution of these values and substitute within thos parameters to find the final value."
   ]
  },
  {
   "cell_type": "code",
   "execution_count": 56,
   "metadata": {},
   "outputs": [],
   "source": [
    "import numpy as np\n",
    "import math\n",
    "import matplotlib.pyplot as plt"
   ]
  },
  {
   "cell_type": "code",
   "execution_count": 18,
   "metadata": {},
   "outputs": [],
   "source": [
    "def PayoffGeneration(r,u,d,size):\n",
    "    ptilde= (1+r-d)/(u-d)\n",
    "    U = np.random.uniform(low=0.5,high=1,size=size)\n",
    "    payoffs = []\n",
    "    for x in U:\n",
    "        outcome = np.random.choice([0,1,2,3],p=[ptilde**2,ptilde*(1-ptilde),ptilde*(1-ptilde),(1-ptilde)**2])\n",
    "        if outcome == 0:\n",
    "            payoffs.append(1-x)\n",
    "        elif outcome ==1:\n",
    "            payoffs.append(x)\n",
    "        elif outcome ==2:\n",
    "            payoffs.append(x)\n",
    "        elif outcome ==3:\n",
    "            payoffs.append(x-0.5)\n",
    "    return np.array(payoffs)\n"
   ]
  },
  {
   "cell_type": "code",
   "execution_count": 23,
   "metadata": {},
   "outputs": [],
   "source": [
    "sample_size = 10_000\n",
    "r = 2/3\n",
    "u = 3\n",
    "d = 1/3\n",
    "T = 2"
   ]
  },
  {
   "cell_type": "code",
   "execution_count": 29,
   "metadata": {},
   "outputs": [
    {
     "name": "stdout",
     "output_type": "stream",
     "text": [
      "Monte Carlos Generated payoff: 0.18077\n"
     ]
    }
   ],
   "source": [
    "Payoffs = PayoffGeneration(r,u,d,sample_size);\n",
    "\n",
    "Payoffs = Payoffs / (1+r)**T\n",
    "print(\"Monte Carlos Generated payoff: {:.5f}\".format(Payoffs.mean()))"
   ]
  },
  {
   "cell_type": "markdown",
   "metadata": {},
   "source": [
    "Fairly certain this may be right, but just calculated in the wrong mannerism. Using the N binomial method would mean calculating dn and rn."
   ]
  },
  {
   "attachments": {
    "image.png": {
     "image/png": "[encoded data removed]"
    }
   },
   "cell_type": "markdown",
   "metadata": {},
   "source": [
    "This was actually all wrong, the method you were supposed to use entails the 2 period binomial method. What that means is to utilize the hand written formula and obtain an answer in terms of x.\n",
    "\n",
    "Although in the method described in the video, we do the Summated probabilities of the outcomes. I.e. for the \"Heads\" in the outcome \n",
    "\n",
    "HH/HT we multiply by ptilde, and with T we multiply by 1-ptilde:\n",
    "\n",
    "![image.png](attachment:image.png)\n",
    "\n",
    "As you can see, we have the values for p etc and all the representations of x as well as r.\n",
    "\n",
    "The way to use the Binomial model, for calculating payoffs, is to summate the payoffs at the final maturity date T. This can be done with manually calculating the probabilities of each outcome correpsonding to the H/T resultants.\n",
    "\n",
    "\"We are looking at linear combinations of payoffs\""
   ]
  },
  {
   "cell_type": "markdown",
   "metadata": {},
   "source": [
    "### Exercise 37\n",
    "\n",
    "What do i not get about this concept?\n",
    "\n",
    "1. How to recursively calculate a payoff? Surely we need all values of S to calculate the Y if its just the summated value of all stocks at that time period.\n",
    "\n",
    "Wrong, the value of YN is all of the Stock prices upto that point summated. This means for Y(HHH) its S(H) + S(HH) + S(HHH)\n",
    "\n",
    "We have to develop a recursive function to calculate this value vn. Im guessing that means we specify a n, and input the starting price.\n",
    "\n",
    "**After class:**\n",
    "\n",
    "Okay, the actual way to compute this is more straightforward. What we need todo is look at the possible outcomes and what the question gives us. If the maturity date is small, we can count on there being just a few outcomes of the stock prices.\n",
    "\n",
    "We are given u,d,S_0, hence we can calculate and sum up all the Y's at 3 easily.\n",
    "\n",
    "\n",
    "\n"
   ]
  },
  {
   "cell_type": "markdown",
   "metadata": {},
   "source": [
    "\n",
    "2. The layout of how they are asking for recursion. Are they wanting us to use S_0 price?\n",
    "\n",
    "They probabily want us to use the parameters.\n",
    "\n",
    "\n"
   ]
  },
  {
   "cell_type": "markdown",
   "metadata": {},
   "source": [
    "### Exercise 38.1\n",
    "Generate 12 Uniform distributions $$U_i \\sim Unif[-\\frac{1}{2}\\frac{1}{2}]$$\n",
    "\n",
    "Then summate all 12 for the distribution Z\n"
   ]
  },
  {
   "cell_type": "code",
   "execution_count": 50,
   "metadata": {},
   "outputs": [],
   "source": [
    "sample_size = 10**7"
   ]
  },
  {
   "cell_type": "code",
   "execution_count": 53,
   "metadata": {},
   "outputs": [],
   "source": [
    "def Zdistribution(size):\n",
    "    Z = 0\n",
    "    for i in range(12):\n",
    "        U = np.random.uniform(low=-0.5,high=0.5,size=size)\n",
    "        Z+=U\n",
    "\n",
    "\n",
    "    return Z"
   ]
  },
  {
   "cell_type": "markdown",
   "metadata": {},
   "source": [
    "### Exercise 38.2\n",
    "\n",
    "The distribution of Z could be seen as an approximate standard normal distribution. In the demonstration done in the Exercise before, we can see how the value of Z's mean and variance reaches 0 and 1 as the number of samples increases. The values asymptope to the true values of 0 and 1. \n",
    "\n",
    "The standard Normal distribution also has a variance and mean of 1 and 0 respectively, so as an approximation these are equal like so:\n",
    "\n",
    "$$Z \\approx N\\sim Norm(0,1)$$\n"
   ]
  },
  {
   "cell_type": "markdown",
   "metadata": {},
   "source": [
    "### Exercise 38.3\n",
    "\n",
    "Here is both the antiquated Standard Normal Distribution generation, and numpy's generation of Standard Normal Distribution.\n"
   ]
  },
  {
   "cell_type": "code",
   "execution_count": 55,
   "metadata": {},
   "outputs": [],
   "source": [
    "sample_size = 10_000_000\n",
    "Z = Zdistribution(sample_size)\n",
    "N = np.random.standard_normal(sample_size)"
   ]
  },
  {
   "cell_type": "code",
   "execution_count": 65,
   "metadata": {},
   "outputs": [
    {
     "data": {
      "image/png": "[encoded data removed]",
      "text/plain": [
       "<Figure size 1440x720 with 2 Axes>"
      ]
     },
     "metadata": {
      "needs_background": "light"
     },
     "output_type": "display_data"
    }
   ],
   "source": [
    "fig, ax = plt.subplots(ncols = 2,nrows=1,figsize=(20,10))\n",
    "ax[0].hist(Z,bins=300)\n",
    "ax[0].set_title(\"Antiquated distributed standrdNormal\")\n",
    "\n",
    "ax[1].hist(N,bins=300,color='red')\n",
    "ax[1].set_title(\"Numpy Standard Normal\");"
   ]
  },
  {
   "cell_type": "code",
   "execution_count": null,
   "metadata": {},
   "outputs": [],
   "source": []
  }
 ],
 "metadata": {
  "kernelspec": {
   "display_name": "Python 3",
   "language": "python",
   "name": "python3"
  },
  "language_info": {
   "codemirror_mode": {
    "name": "ipython",
    "version": 3
   },
   "file_extension": ".py",
   "mimetype": "text/x-python",
   "name": "python",
   "nbconvert_exporter": "python",
   "pygments_lexer": "ipython3",
   "version": "3.8.5"
  }
 },
 "nbformat": 4,
 "nbformat_minor": 4
}
