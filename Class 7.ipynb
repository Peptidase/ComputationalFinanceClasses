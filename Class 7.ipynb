{
 "cells": [
  {
   "cell_type": "markdown",
   "metadata": {},
   "source": [
    "### Assignment 7\n",
    "\n"
   ]
  },
  {
   "cell_type": "markdown",
   "metadata": {},
   "source": [
    "## Exercise 30"
   ]
  },
  {
   "cell_type": "markdown",
   "metadata": {},
   "source": [
    "For the probability ~ equation all we need to do is rearrange and perform some linear algebra to calculate the outcome lands within 1 and 0 **and** it that 1-probability~'s value.\n",
    "\n"
   ]
  },
  {
   "cell_type": "markdown",
   "metadata": {},
   "source": [
    "Todo this, we can just take the no-arbitrage condition\n",
    "\n",
    "$$d < 1 + r < u$$\n",
    "\n",
    "and derive the   \n",
    "\n",
    "\n",
    "$$\\tilde{p} = \\frac{1+r-d}{u-d}$$\n",
    "\n",
    "Remember, if this is followed, we can be certain that no abitrages are present in the finacial model we build.\n",
    "\n",
    "$$d < 1 + r < u$$\n",
    "\n",
    "We then take away $d$,\n",
    "\n",
    "$$0 < 1 + r - d < u - d$$\n",
    "\n",
    "and then divide by $u - d$. With u - d its 1, with 0 (its 0) and with the middle value it gives us:\n",
    "\n",
    "$$0 < \\frac{1 + r - d}{u-d}< 1$$\n",
    "\n",
    "Which proves the value of p only falls within bounds of $\\tilde{p} \\in (1,0)$\n"
   ]
  },
  {
   "cell_type": "markdown",
   "metadata": {},
   "source": [
    "Given that we now have:\n",
    "\n",
    "$$\\tilde{p} = \\frac{1+r-d}{u-d}$$\n",
    "\n",
    "$$1 - \\tilde{p} = 1 - \\frac{1+r-d}{u-d}$$\n",
    "\n",
    "which is equal to:\n",
    "\n",
    "$$1 - \\tilde{p} = \\frac{u-d}{u-d} - \\frac{1+r-d}{u-d}$$\n",
    "\n",
    "Which the d cancels out, we have -1, -r and u which leaves us with \n",
    "\n",
    "$$1 - \\tilde{p}= \\frac{u-d}{u-d} - \\frac{1+r-d}{u-d} = \\frac{u-1-r}{u-d}$$"
   ]
  },
  {
   "cell_type": "markdown",
   "metadata": {},
   "source": [
    "## Exercise 31\n"
   ]
  },
  {
   "cell_type": "markdown",
   "metadata": {},
   "source": [
    "Show there is no arbitrage in the model, with the no arbitrage condition in place:\n",
    "\n",
    "Construct a statement out of the d < 1+r < u rule, and contradict it by stating there is an arbitrage.\n",
    "\n",
    "Remeber the starting wealth of the trading strat is 0, so define it for that too.\n",
    "\n",
    "manipulate the condition in relation to the stock value,\n"
   ]
  },
  {
   "cell_type": "markdown",
   "metadata": {},
   "source": [
    "I understand some of the mathematics done here,\n",
    "\n",
    "Deriving \n",
    "\n",
    "$$\\frac{S_1(T)}{1+r}- S_0< 0 < \\frac{S_1(H)}{1+r} - S_0$$\n",
    "\n",
    "is simple by just multiplying by $S_0$, then dividing by $(1+r)$ and finally subtracting $S_0$\n",
    "\n",
    "I also understand that from the idea of trying to prove by contradiction, that an arbitrage doesnt exist, we set the initial wealth of the portfolio $X_0^\\varphi = 0$\n",
    "\n",
    "What I dont understand, is the steps used to derive that the value of The next wealth at time 1 is showing that we have a wealth smaller than 0, my guess is that it derives and shows that our expression is equal to $$\\frac{S_1(T)}{1+r}- S_0< 0$$\n",
    "\n",
    "Which negates the aribtrage's logic of having a positive probability of obtaining a \"gain\".\n",
    "\n",
    "**Needs to be completed with answers**"
   ]
  },
  {
   "cell_type": "markdown",
   "metadata": {},
   "source": [
    "## Exercise 32\n",
    "\n",
    "### Expressions used:"
   ]
  },
  {
   "cell_type": "code",
   "execution_count": 22,
   "metadata": {},
   "outputs": [],
   "source": [
    "import numpy as np"
   ]
  },
  {
   "cell_type": "code",
   "execution_count": 17,
   "metadata": {},
   "outputs": [],
   "source": [
    "#Functions to return derivative pricing:\n",
    "\n",
    "def BinomialPricing(S_0,k,u,d,r,security=\"call\"):\n",
    "    S1_h = S_0 * u\n",
    "    S1_t = S_0 * d\n",
    "    \n",
    "    if(security == \"call\"):\n",
    "        V1_h = k - S1_h\n",
    "        V1_t = k - S1_t\n",
    "\n",
    "        V1_h = np.maximum(0,V1_h)\n",
    "        V1_t = np.maximum(0,V1_t)\n",
    "    elif(security == \"put\"):\n",
    "        V1_h = S1_h - k\n",
    "        V1_t = S1_t - k\n",
    "\n",
    "        V1_h = np.maximum(0,V1_h)\n",
    "        V1_t = np.maximum(0,V1_t)\n",
    "        \n",
    "    elif(security == \"contract\"):\n",
    "        V1_h = S1_h - k\n",
    "        V1_t = S1_t - k\n",
    "    \n",
    "    print(\"Stock evaluations at \\nHeads: {}\\nTails: {}\".format(S1_h,S1_t))\n",
    "    print(\"Payoff evaluations at \\nHeads: {}\\nTails: {}\".format(V1_h,V1_t))\n",
    "\n",
    "    \n",
    "    delta0 = (V1_h - V1_t) / (S1_h - S1_t)\n",
    "    \n",
    "    Beta0 = (V1_h *S1_t) - (V1_t*S1_h)\n",
    "    Beta0 = Beta0/(S1_t - S1_h)\n",
    "    Beta0 = Beta0 * (1/(1+r))\n",
    "    \n",
    "    return Beta0+delta0*S_0"
   ]
  },
  {
   "cell_type": "code",
   "execution_count": 21,
   "metadata": {},
   "outputs": [
    {
     "name": "stdout",
     "output_type": "stream",
     "text": [
      "Stock evaluations at \n",
      "Heads: 8\n",
      "Tails: 2.0\n",
      "Payoff evaluations at \n",
      "Heads: 3\n",
      "Tails: -3.0\n"
     ]
    },
    {
     "data": {
      "text/plain": [
       "0.0"
      ]
     },
     "execution_count": 21,
     "metadata": {},
     "output_type": "execute_result"
    }
   ],
   "source": [
    "BinomialPricing(4,5,2,1/2,1/4,\"contract\")"
   ]
  },
  {
   "cell_type": "code",
   "execution_count": null,
   "metadata": {},
   "outputs": [],
   "source": []
  }
 ],
 "metadata": {
  "kernelspec": {
   "display_name": "Python 3",
   "language": "python",
   "name": "python3"
  },
  "language_info": {
   "codemirror_mode": {
    "name": "ipython",
    "version": 3
   },
   "file_extension": ".py",
   "mimetype": "text/x-python",
   "name": "python",
   "nbconvert_exporter": "python",
   "pygments_lexer": "ipython3",
   "version": "3.8.5"
  }
 },
 "nbformat": 4,
 "nbformat_minor": 4
}
