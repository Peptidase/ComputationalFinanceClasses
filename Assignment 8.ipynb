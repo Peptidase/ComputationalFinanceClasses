{
 "cells": [
  {
   "cell_type": "markdown",
   "metadata": {},
   "source": [
    "### Assignment 8"
   ]
  },
  {
   "cell_type": "markdown",
   "metadata": {},
   "source": [
    "### Exercise 33"
   ]
  },
  {
   "cell_type": "markdown",
   "metadata": {},
   "source": [
    "Initial understanding was that we have calculated for that 1.2 payoff with the appropriate values of $\\Delta_0$ and $\\beta_0$ for the payoff to be equal to the stock price at time 1. \n",
    "\n",
    "The option is purchased, now we want to make it so we have 1.2 in the riskless account.\n",
    "\n",
    "We can sell -0.3 of the stock at time 0 to provide 1.2 funds for the riskless account. We then invest that, wait a time period and the wealth can be the outcome of either:\n",
    "\n",
    "\"Whatever you get, you have to compensate for it\"\n",
    "\n",
    "I calculated,\n",
    "\n",
    "$$\\varphi = (\\beta = 1.2, \\delta_0 = 0)$$\n",
    "\n",
    "I think this may be wrong though, if we need to include the payoff value with this calculation we would need to workout what the payoff for each outcome would be.\n",
    "\n",
    "$$V_1(H) = 3$$\n",
    "\n",
    "$$V_1(T) = 0$$\n",
    "\n",
    "\n",
    "**Corrected after Class:**\n",
    "\n",
    "When i worked it out before, I just calculated simaltanous equations without taking into account payoff. e.g. just a normal wealth calculation with Heads and Tails outcomes but with no account to the payoff. Thats how I got delta to be equal to 0. \n",
    "\n",
    "What I learn now, is we need all the capital to be equal to value specified in the question. This means we add on $V_1$ for both outcomes, then calculate the simaltaneous equations like so:\n",
    "\n",
    "The question states, \"\"we want a value of $\\frac{5}{4} * 1.2$ **after** the payoff\"\"\n",
    "\n",
    "\n",
    "$$X_1^\\varphi(H) = 1.5$$\n",
    "\n",
    "$$X_1^\\varphi(T) = 1.5$$\n",
    "\n",
    "Both of these are equal to eachother, so we just set them equal to eachother with the equations\n",
    "\n",
    "$$X_1^\\varphi(X) = |\\beta_0 * (1+r) + \\Delta_0 * S_1(X) + V_1(X)$$\n",
    "\n",
    "Which gives us:\n",
    "\n",
    "$$X_1^\\varphi(H) = |\\beta_0 * (1+r) + \\Delta_0 * S_1(H) + V_1(H)$$\n",
    "\n",
    "$$X_1^\\varphi(T) = |\\beta_0 * (1+r) + \\Delta_0 * S_1(T) + V_1(T)$$\n",
    "\n",
    "Taking these away and calculating the simaltanous equations gives us:\n",
    "\n",
    "$$\\Delta_0 = -0.5$$\n",
    "\n",
    "Which we can just plug back into the equation to obtain:\n",
    "\n",
    "$$\\beta_0 = 2$$\n",
    "\n",
    "$$\\therefore \\varphi = (\\beta = 2, \\delta_0 = -0.5)$$\n",
    "\n",
    "I was on the right tracks, just didnt take into account that the idea of wealth can include the values or wealth you obtain from options. I guess in this example we are given that she doesnt use any of the wealth to but the option from the question its bought independantly. That is what I initially got confused about."
   ]
  },
  {
   "cell_type": "markdown",
   "metadata": {},
   "source": [
    "### Exercise 34"
   ]
  },
  {
   "cell_type": "code",
   "execution_count": 53,
   "metadata": {},
   "outputs": [],
   "source": [
    "import numpy as np\n",
    "import matplotlib.pyplot as plt\n",
    "import math"
   ]
  },
  {
   "cell_type": "code",
   "execution_count": 34,
   "metadata": {},
   "outputs": [],
   "source": [
    "def Stockprice(sample_size,S_0,u,d,ptilde):\n",
    "\n",
    "    \n",
    "    stocks = np.random.choice([u*S_0,d*S_0],p=[1-ptilde,ptilde],size=sample_size)\n",
    "    return stocks"
   ]
  },
  {
   "cell_type": "markdown",
   "metadata": {},
   "source": [
    "As we are using MonteCarlos to price this, we need to find out the $B_0$ value correct?\n",
    "Noo!!! That is just the interest rate of the bank at that point!"
   ]
  },
  {
   "cell_type": "markdown",
   "metadata": {},
   "source": [
    "### Exercise 34 part 2"
   ]
  },
  {
   "cell_type": "markdown",
   "metadata": {},
   "source": [
    "Essentially, there are two ways to calculate the option price when we sample prices.\n",
    "\n",
    "What do we sample you ask? \n",
    "Well its just the outcomes of tha Heads and tails flips. \n",
    "\n",
    "We calculate, \"Hmm, what prices could this be?\"\n",
    "\n",
    "The formula for the $V_0$ price is :\n",
    "\n",
    "\n",
    "$$\\tilde{E}\\bigg[\\frac{V_n}{B_n}\\bigg]$$\n",
    "\n",
    "So we need to calculate the expected value, over the interest rate many times and mean that? Okay \n"
   ]
  },
  {
   "cell_type": "code",
   "execution_count": 103,
   "metadata": {},
   "outputs": [],
   "source": [
    "S_0 = 4\n",
    "u = 2\n",
    "d = 1/2\n",
    "r = 1/4\n",
    "N = 1\n",
    "K = 5\n",
    "ptilde = (1 + r - d) / (u-d) \n",
    "sample_size = 10_000\n"
   ]
  },
  {
   "cell_type": "code",
   "execution_count": 104,
   "metadata": {},
   "outputs": [
    {
     "name": "stdout",
     "output_type": "stream",
     "text": [
      "[3. 3. 3. ... 0. 3. 3.]\n",
      "[2.4 2.4 2.4 ... 0.  2.4 2.4]\n"
     ]
    },
    {
     "data": {
      "text/plain": [
       "1.2131549109712008"
      ]
     },
     "execution_count": 104,
     "metadata": {},
     "output_type": "execute_result"
    }
   ],
   "source": [
    "Stocks = Stockprice(sample_size,S_0,u,d,ptilde) #You need to find the option price!\n",
    "#Obtained the stock values.\n",
    "#Now we need the put value which is just K - S1,\n",
    "#\n",
    "\n",
    "Stocks = np.maximum(0,K - Stocks)\n",
    "print(Stocks)\n",
    "Stocks = Stocks / (1+r)**N\n",
    "print(Stocks)\n",
    "Stocks = np.cumsum(Stocks)\n",
    "Stocks = Stocks / np.arange(1,sample_size+1)\n",
    "Stocks.mean()"
   ]
  },
  {
   "cell_type": "code",
   "execution_count": 105,
   "metadata": {},
   "outputs": [],
   "source": [
    "def MCStockprice(S_0,u,d,r,N,K,ptilde,sample_size):\n",
    "    Stocks = Stockprice(sample_size,S_0,u,d,ptilde) #You need to find the option price!\n",
    "    Stocks = np.maximum(0,K - Stocks)\n",
    "    Stocks = Stocks / (1+r)**N\n",
    "    Stocks = np.cumsum(Stocks)\n",
    "    Stocks = Stocks / np.arange(1,sample_size+1)\n",
    "    return Stocks.mean()\n",
    "    "
   ]
  },
  {
   "cell_type": "code",
   "execution_count": 106,
   "metadata": {},
   "outputs": [
    {
     "data": {
      "text/plain": [
       "1.176324503746087"
      ]
     },
     "execution_count": 106,
     "metadata": {},
     "output_type": "execute_result"
    }
   ],
   "source": [
    "MCStockprice(S_0,u,d,r,N,K,ptilde,sample_size)"
   ]
  },
  {
   "cell_type": "markdown",
   "metadata": {},
   "source": [
    "Finally, for the analyitcal method we use that combinational method we have in the same line Colloray 105 **8.12/8.17**\n",
    "\n",
    "$$\\frac{1}{B_N} * \\sum_{k=0}^N {N\\choose k}\\tilde{p}*(1 - \\tilde{p})^{N-k}* v(S_0*u^k*d^{N-K})$$\n",
    "\n",
    "Remember, that function v is just the $V_n = v(S_n)$\n",
    "\n",
    "So im not sure what we do when there is a value inside the function. I guess we just specify the payoff value? ignoring the fluff inside the $v(S_0*u^k*d^{N-K})$ function and just focus on the $V_1$ payoff.\n",
    "\n",
    "For every K in k to n, we calculate the choose values of these:\n"
   ]
  },
  {
   "cell_type": "code",
   "execution_count": 107,
   "metadata": {},
   "outputs": [
    {
     "name": "stdout",
     "output_type": "stream",
     "text": [
      "1.2\n"
     ]
    }
   ],
   "source": [
    "for k in range(N+1):\n",
    "    Summation = 0\n",
    "    payoffN = (S_0*(u**N)*(d**(N-k)))\n",
    "    value = (ptilde**k) * ((1-ptilde)**(N-k)) * (K - payoffN)\n",
    "    Summation = Summation + (math.comb(N,k)*value)\n",
    "\n",
    "    \n",
    "\n",
    "Summation = Summation / (1+r)**N\n",
    "print(-Summation)\n",
    "#Why is this negative?"
   ]
  },
  {
   "cell_type": "code",
   "execution_count": 108,
   "metadata": {},
   "outputs": [
    {
     "data": {
      "text/plain": [
       "<matplotlib.legend.Legend at 0x1fab1d99fa0>"
      ]
     },
     "execution_count": 108,
     "metadata": {},
     "output_type": "execute_result"
    },
    {
     "data": {
      "image/png": "[encoded data removed]",
      "text/plain": [
       "<Figure size 720x720 with 1 Axes>"
      ]
     },
     "metadata": {
      "needs_background": "light"
     },
     "output_type": "display_data"
    }
   ],
   "source": [
    "fig, ax = plt.subplots(figsize=(10,10))\n",
    "ax.plot(np.arange(1,sample_size+1),Stocks)\n",
    "ax.set_ylim(1.0,1.4)\n",
    "ax.hlines(-Summation,xmin=0,xmax=sample_size,color='red')\n",
    "ax.hlines(Stocks.mean(),xmin=0,xmax=sample_size,color='green')\n",
    "ax.legend([\"MonteCarlos mean calculation\",\"Analyitcal mean\",\"Monte Carlos mean\"])"
   ]
  },
  {
   "cell_type": "markdown",
   "metadata": {},
   "source": [
    "### Exercise 35\n",
    "\n",
    "I believe, this just means calculate a european call option, rather than a put. Which is just as simple as reversing the payoff value which is the payoff - k insead of k - payoff"
   ]
  },
  {
   "cell_type": "code",
   "execution_count": 109,
   "metadata": {},
   "outputs": [
    {
     "name": "stdout",
     "output_type": "stream",
     "text": [
      "-1.2\n"
     ]
    }
   ],
   "source": [
    "for k in range(N+1):\n",
    "    Summation = 0\n",
    "    payoffN = (S_0*(u**N)*(d**(N-k)))\n",
    "    value = (ptilde**k) * ((1-ptilde)**(N-k)) * (payoffN - K)\n",
    "    Summation = Summation + (math.comb(N,k)*value)\n",
    "\n",
    "    \n",
    "\n",
    "Summation = Summation / (1+r)**N\n",
    "print(-Summation)\n",
    "#Why is this negative?"
   ]
  },
  {
   "cell_type": "code",
   "execution_count": null,
   "metadata": {},
   "outputs": [],
   "source": []
  },
  {
   "cell_type": "code",
   "execution_count": null,
   "metadata": {},
   "outputs": [],
   "source": []
  }
 ],
 "metadata": {
  "kernelspec": {
   "display_name": "Python 3",
   "language": "python",
   "name": "python3"
  },
  "language_info": {
   "codemirror_mode": {
    "name": "ipython",
    "version": 3
   },
   "file_extension": ".py",
   "mimetype": "text/x-python",
   "name": "python",
   "nbconvert_exporter": "python",
   "pygments_lexer": "ipython3",
   "version": "3.8.5"
  }
 },
 "nbformat": 4,
 "nbformat_minor": 4
}
