{
 "cells": [
  {
   "cell_type": "markdown",
   "metadata": {},
   "source": [
    "### Assignment Hard Questions Refresher"
   ]
  },
  {
   "cell_type": "code",
   "execution_count": 31,
   "metadata": {},
   "outputs": [],
   "source": [
    "import numpy as np\n",
    "import matplotlib.pyplot as plt"
   ]
  },
  {
   "cell_type": "markdown",
   "metadata": {},
   "source": [
    "## Exercise 12"
   ]
  },
  {
   "cell_type": "markdown",
   "metadata": {},
   "source": [
    "Generate Uniform distribution \n",
    "\n",
    "$$U \\sim Unif(low,high)$$\n",
    "\n",
    "Generate Exponential distribution\n",
    "\n",
    "$$X \\sim exp(\\mu)$$"
   ]
  },
  {
   "cell_type": "code",
   "execution_count": 38,
   "metadata": {},
   "outputs": [],
   "source": [
    "sample_size = 10_000\n",
    "mu = 2\n",
    "\n",
    "U = np.random.uniform(low = -1.0, high = 1.0,size = sample_size)\n",
    "E = np.random.exponential(mu,size=sample_size)\n",
    "\n",
    "De = U*E"
   ]
  },
  {
   "cell_type": "code",
   "execution_count": 45,
   "metadata": {},
   "outputs": [
    {
     "data": {
      "image/png": "[encoded data removed]",
      "text/plain": [
       "<Figure size 720x720 with 1 Axes>"
      ]
     },
     "metadata": {
      "needs_background": "light"
     },
     "output_type": "display_data"
    }
   ],
   "source": [
    "fig,ax = plt.subplots(figsize=(10,10))\n",
    "ax.hist(De,bins=100);"
   ]
  },
  {
   "cell_type": "markdown",
   "metadata": {},
   "source": [
    "## Exercise 15\n",
    "\n",
    "Improvements todo:\n",
    "\n",
    "*\"Can you also show this mathematically using integrals?\"*\n",
    "\n",
    "Compute expectation of the exponentially distributed r.v. with parameter $\\mu$\n",
    "\n",
    "To calculate the expectation of a distribution, it states to compute :\n",
    "\n",
    "$$E[X] = \\int x*f(x)dx$$\n",
    "\n",
    "With this being the case, we can take the expression for the PDF from exercise 11 (as it states todo in the question) and integrate it like so:\n",
    "\n",
    "$$f(x) = \\mu e^{-\\mu x}$$\n",
    "\n",
    "$$E[X] = \\int x\\mu e^{-\\mu x}dx$$\n",
    "\n",
    "We can integrate by parts and obtain the Expectation function:\n",
    "\n",
    "$$-e^{-ax}x-\\frac{e^{-ax}}{a}+C$$\n",
    "\n",
    "\n",
    "Here they use integration by parts and derive this:\n",
    " \n",
    "$$\\frac{1}{\\mu}$$\n",
    "\n",
    "It has something todo with the integral being an \"improper integral.\""
   ]
  },
  {
   "cell_type": "markdown",
   "metadata": {},
   "source": [
    "## Exercise 17"
   ]
  },
  {
   "cell_type": "code",
   "execution_count": 12,
   "metadata": {},
   "outputs": [],
   "source": [
    "sample_size=10_000\n",
    "U1 = np.random.random(size=sample_size)"
   ]
  },
  {
   "cell_type": "code",
   "execution_count": 13,
   "metadata": {},
   "outputs": [],
   "source": [
    "def g1(x):\n",
    "    return x**2\n",
    "def g2(x):\n",
    "    return (x**4)+(2*(x**2))"
   ]
  },
  {
   "cell_type": "code",
   "execution_count": 14,
   "metadata": {},
   "outputs": [],
   "source": [
    "outcome1 =g1(U1.mean()) <= g1(U1).mean()\n",
    "\n",
    "\n",
    "outcome2 =g2(U1.mean()) <= g2(U1).mean()"
   ]
  },
  {
   "cell_type": "code",
   "execution_count": 15,
   "metadata": {},
   "outputs": [
    {
     "name": "stdout",
     "output_type": "stream",
     "text": [
      "Jensens Inequality outcome for :\n",
      "g1 is True\n",
      "g2 is True\n"
     ]
    }
   ],
   "source": [
    "print(\"Jensens Inequality outcome for :\")\n",
    "print(\"g1 is {}\".format(outcome1))\n",
    "print(\"g2 is {}\".format(outcome2))"
   ]
  },
  {
   "cell_type": "markdown",
   "metadata": {},
   "source": [
    "## Exercise 19"
   ]
  },
  {
   "cell_type": "markdown",
   "metadata": {},
   "source": [
    "The key to this exercise is to ensure you can fully understand the concept laid out. Here it states the distribution is discrete, and also provides us with the PDF. \n",
    "\n",
    "**Last time, to calculate the CDF F from the PDF I integrated. It is actually much easier to calculate by using logic. You only calculate the integral of a PDF when the random variable is continous.**\n",
    "\n",
    "Hence, for this example, we can generate uniform random samples and just compare them to the CDF probabilities available. This is why the question states to utilize the if-else statements.\n",
    "\n",
    "I was along the right tracks, just incorrect usage of the rules. Given it was a discrete r.v. i need to know next time what to do.\n",
    "\n"
   ]
  },
  {
   "cell_type": "code",
   "execution_count": 26,
   "metadata": {},
   "outputs": [],
   "source": [
    "c = 1/10\n",
    "samples = []\n",
    "counter = 1\n",
    "while counter < 10000:\n",
    "    U = np.random.random()\n",
    "    if U < 1*c:\n",
    "        samples.append(1)\n",
    "    elif U < 3*c:\n",
    "        samples.append(2)\n",
    "    elif U < 6*c:\n",
    "        samples.append(3)\n",
    "    elif U < 10*c:\n",
    "        samples.append(4)\n",
    "    counter+=1\n",
    "    "
   ]
  },
  {
   "cell_type": "code",
   "execution_count": 30,
   "metadata": {
    "scrolled": false
   },
   "outputs": [
    {
     "data": {
      "image/png": "[encoded data removed]",
      "text/plain": [
       "<Figure size 720x720 with 1 Axes>"
      ]
     },
     "metadata": {
      "needs_background": "light"
     },
     "output_type": "display_data"
    }
   ],
   "source": [
    "fig,ax = plt.subplots(figsize=(10,10))\n",
    "ax.hist(samples,density=True);"
   ]
  },
  {
   "cell_type": "markdown",
   "metadata": {},
   "source": [
    "## Exercise 20"
   ]
  },
  {
   "cell_type": "code",
   "execution_count": null,
   "metadata": {},
   "outputs": [],
   "source": []
  }
 ],
 "metadata": {
  "kernelspec": {
   "display_name": "Python 3",
   "language": "python",
   "name": "python3"
  },
  "language_info": {
   "codemirror_mode": {
    "name": "ipython",
    "version": 3
   },
   "file_extension": ".py",
   "mimetype": "text/x-python",
   "name": "python",
   "nbconvert_exporter": "python",
   "pygments_lexer": "ipython3",
   "version": "3.8.5"
  }
 },
 "nbformat": 4,
 "nbformat_minor": 4
}
